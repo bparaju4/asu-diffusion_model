{
 "cells": [
  {
   "cell_type": "markdown",
   "id": "7cbdb372-71b0-4b40-8e58-0615b4610607",
   "metadata": {},
   "source": [
    "# A 1D diffusion Model"
   ]
  },
  {
   "cell_type": "markdown",
   "id": "7894604e-20da-46e2-b5c2-c539eb58bab7",
   "metadata": {},
   "source": [
    "Here we develop a one-dimensional model of difusion.\n",
    "It assumes a constant diffusivity .\n",
    "It uses a regular grid.\n",
    "It has a step function for an initial condition.\n",
    "It has fixed boundary conditions\n"
   ]
  },
  {
   "cell_type": "markdown",
   "id": "1dfcb054-fa1c-41b1-994f-42c87fcd3852",
   "metadata": {},
   "source": [
    "Here is the diffusion equation:"
   ]
  },
  {
   "cell_type": "markdown",
   "id": "8c8b1dca-09f3-4b27-b4fa-73959556a9ce",
   "metadata": {},
   "source": [
    "$$ \\frac{\\partial C}{\\partial t} = D\\frac{\\partial^2 C}{\\partial x^2} $$"
   ]
  },
  {
   "cell_type": "markdown",
   "id": "31b6785d-b42f-4315-9aa6-8719eaf380d2",
   "metadata": {},
   "source": [
    "Here is the discretized version of the diffusion equation we will solve with our model"
   ]
  },
  {
   "cell_type": "markdown",
   "id": "99f9e9c1-0345-438e-aa60-dd221117efbb",
   "metadata": {},
   "source": [
    "$$ C^{t+1}_x = C^t_x + {D \\Delta t \\over \\Delta x^2} (C^t_{x+1} - 2C^t_x + C^t_{x-1}) $$"
   ]
  },
  {
   "cell_type": "markdown",
   "id": "6a17be23-8929-4210-8800-109bce14f2e5",
   "metadata": {},
   "source": [
    "This is the FTCS scheme as described by Slingerland and Kump (2011)"
   ]
  },
  {
   "cell_type": "markdown",
   "id": "6d11fbba-0119-469f-9baa-222ddfe79581",
   "metadata": {},
   "source": [
    "We'll use two libraries, Numpy (for arrays) and Matplotlib (for plotting), that aren't a part of the core python distribution\n"
   ]
  },
  {
   "cell_type": "code",
   "execution_count": null,
   "id": "7fa8d4a2-902f-459d-ae3b-1cee1ed5857d",
   "metadata": {},
   "outputs": [],
   "source": [
    "import numpy as np\n",
    "import matplotlib.pyplot as plt"
   ]
  },
  {
   "cell_type": "markdown",
   "id": "8bf9fcbb-86b4-429c-81fc-0ad97b8f3173",
   "metadata": {},
   "source": [
    "Start by setting two fixed model parameters, the diffusivity and the size of the model domain"
   ]
  },
  {
   "cell_type": "code",
   "execution_count": null,
   "id": "4f473ed9-17ca-42e4-89c6-cfa247266c30",
   "metadata": {},
   "outputs": [],
   "source": [
    "D=100\n",
    "Lx=300"
   ]
  },
  {
   "cell_type": "markdown",
   "id": "1ba6b864-95c2-4ef0-835a-f7fc1e899d52",
   "metadata": {},
   "source": [
    "Next, set up the model grid using NumPy array"
   ]
  },
  {
   "cell_type": "code",
   "execution_count": null,
   "id": "ac1275f1-cc60-4a02-97e4-a0cec326ebc1",
   "metadata": {},
   "outputs": [],
   "source": [
    "dx=0.5\n",
    "x=np.arange(start=0, stop=Lx, step=dx)\n",
    "nx=len(x)"
   ]
  },
  {
   "cell_type": "markdown",
   "id": "d5afa5cb-214e-46bf-b5df-2cc9f0dd1d8a",
   "metadata": {},
   "source": [
    "Set the initial conditions for the model.\n",
    "The cake 'C' is a step functionwith a high value on the left, a low value on the right, and a step at the center of the domain."
   ]
  },
  {
   "cell_type": "code",
   "execution_count": null,
   "id": "7cc801c9-1864-439a-9838-24853169ecdc",
   "metadata": {},
   "outputs": [],
   "source": [
    "C=np.zeros_like(x)\n",
    "C_left=500\n",
    "C_right=0\n",
    "C[x<=Lx/2]=C_left\n",
    "C[x>Lx/2]=C_right"
   ]
  },
  {
   "cell_type": "markdown",
   "id": "386d2fa3-e2c5-412e-a260-8958544c062b",
   "metadata": {},
   "source": [
    "Plot the initial profile"
   ]
  },
  {
   "cell_type": "code",
   "execution_count": null,
   "id": "994a8c14-7a65-45c0-91d3-b7a706086274",
   "metadata": {},
   "outputs": [],
   "source": [
    "plt.figure()\n",
    "plt.plot(x,C,\"r\")\n",
    "plt.xlabel(\"x\")\n",
    "plt.ylabel(\"C\")\n",
    "plt.title(\"Initial Profile\")"
   ]
  },
  {
   "cell_type": "markdown",
   "id": "2272e92d-3ca1-495f-9dce-6d5963725573",
   "metadata": {},
   "source": [
    "Set the number of time steps in the model. Calculate a stable time step using a stability criterion."
   ]
  },
  {
   "cell_type": "code",
   "execution_count": null,
   "id": "789389e2-16b7-462b-9a28-a87851c0fdae",
   "metadata": {},
   "outputs": [],
   "source": [
    "nt=5000\n",
    "dt=0.5*dx**2/D"
   ]
  },
  {
   "cell_type": "markdown",
   "id": "3e17532e-119e-4094-a0fd-a5e9099b45d7",
   "metadata": {},
   "source": [
    "Loop over the time steps of the model, solving the diffusion equation using the FTCS scheme shown above. Note the use of array operations on the variable C. The boundary conditions remain fixed in each time step."
   ]
  },
  {
   "cell_type": "code",
   "execution_count": null,
   "id": "f9177c8f-dd9b-49a3-b09b-9c06b63e03f3",
   "metadata": {},
   "outputs": [],
   "source": [
    "for t in range(0,nt):\n",
    "    C[1:-1] += D *dt / dx ** 2 * (C[:-2]-2*C[1:-1]+C[2:])"
   ]
  },
  {
   "cell_type": "markdown",
   "id": "738dbe66-15c9-447f-956b-316b49c0ce8d",
   "metadata": {},
   "source": [
    "Plot the results"
   ]
  },
  {
   "cell_type": "code",
   "execution_count": null,
   "id": "01999e9c-bee6-4e5f-9bd8-fa3f00d39c36",
   "metadata": {},
   "outputs": [],
   "source": [
    "plt.figure()\n",
    "plt.plot(x, C ,\"b\")\n",
    "plt.xlabel(\"x\")\n",
    "plt.ylabel(\"C\")\n",
    "plt.title(\"Final Profile\")"
   ]
  },
  {
   "cell_type": "code",
   "execution_count": null,
   "id": "826dc3a5-a6bd-442b-a9f2-886f7ed3aaf9",
   "metadata": {},
   "outputs": [],
   "source": []
  }
 ],
 "metadata": {
  "kernelspec": {
   "display_name": "Ivy",
   "language": "python",
   "name": "ivy"
  },
  "language_info": {
   "codemirror_mode": {
    "name": "ipython",
    "version": 3
   },
   "file_extension": ".py",
   "mimetype": "text/x-python",
   "name": "python",
   "nbconvert_exporter": "python",
   "pygments_lexer": "ipython3",
   "version": "3.13.3"
  }
 },
 "nbformat": 4,
 "nbformat_minor": 5
}
